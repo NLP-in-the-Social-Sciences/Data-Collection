{
 "cells": [
  {
   "cell_type": "code",
   "execution_count": null,
   "metadata": {},
   "outputs": [],
   "source": [
    "import io\n",
    "import os\n",
    "import json\n",
    "import base64 \n",
    "from zstd_decompress import write_data, load_data\n",
    "import zstandard as zstd\n",
    "from paths import COMPRESSED_SUMBISSIONS, DECOMPRESSED_SUMBISSIONS\n",
    "from pathlib import Path\n",
    "from os.path import isfile, join as pjoin"
   ]
  },
  {
   "cell_type": "code",
   "execution_count": null,
   "metadata": {},
   "outputs": [],
   "source": [
    "# ZStandardDcmp = zstd.ZstdDecompressor()\n",
    "\n",
    "# compressedData = base64.b64decode()\n",
    "# stream_reader = ZStandardDcmp.stream_reader(compressedData)\n",
    "# decompressedTXTData = stream_reader.read().decode('utf-8-sig')\n",
    "# stream_reader.close()"
   ]
  },
  {
   "cell_type": "code",
   "execution_count": null,
   "metadata": {},
   "outputs": [],
   "source": [
    "print(pjoin(COMPRESSED_SUMBISSIONS, \"things\"))"
   ]
  },
  {
   "cell_type": "code",
   "execution_count": null,
   "metadata": {},
   "outputs": [],
   "source": [
    "from pprint import pprint"
   ]
  },
  {
   "cell_type": "code",
   "execution_count": null,
   "metadata": {},
   "outputs": [],
   "source": [
    "def merge_json(json_array):\n",
    "    combined_json = {}\n",
    "    for obj in json_array:\n",
    "        combined_json.update(obj)\n",
    "    pprint(combined_json)\n",
    "        \n",
    "    return combined_json"
   ]
  },
  {
   "cell_type": "code",
   "execution_count": null,
   "metadata": {},
   "outputs": [],
   "source": [
    "\n",
    "compressed_files = os.listdir(COMPRESSED_SUMBISSIONS)\n",
    "dctx = zstd.ZstdDecompressor(max_window_size=2147483648)\n",
    "for file in compressed_files: \n",
    "    if file.__contains__('2018'): \n",
    "        print(file)\n",
    "        file_rb = open(pjoin(COMPRESSED_SUMBISSIONS, file), 'rb')        \n",
    "        stream_reader = dctx.stream_reader(file_rb)\n",
    "        f   = io.TextIOWrapper(stream_reader, encoding='utf-8')\n",
    "        \n",
    "        json_array = []\n",
    "        for index, l in enumerate(f): \n",
    "            json_array.append(json.loads(l))\n",
    "\n",
    "        write_data(f\"{file.split('.')[0]}.json\", json_array)\n",
    "\n",
    "        break"
   ]
  },
  {
   "cell_type": "code",
   "execution_count": null,
   "metadata": {},
   "outputs": [],
   "source": []
  }
 ],
 "metadata": {
  "kernelspec": {
   "display_name": "nlpR_3.9",
   "language": "python",
   "name": "python3"
  },
  "language_info": {
   "codemirror_mode": {
    "name": "ipython",
    "version": 3
   },
   "file_extension": ".py",
   "mimetype": "text/x-python",
   "name": "python",
   "nbconvert_exporter": "python",
   "pygments_lexer": "ipython3",
   "version": "3.10.11"
  },
  "orig_nbformat": 4
 },
 "nbformat": 4,
 "nbformat_minor": 2
}
